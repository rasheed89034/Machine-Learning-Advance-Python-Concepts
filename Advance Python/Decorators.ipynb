{
 "cells": [
  {
   "cell_type": "markdown",
   "metadata": {},
   "source": [
    "## Function Copy\n",
    "##### Function copy in Python refers to assigning a function to another variable. This allows the function to be called using the new variable, even if the original function is deleted."
   ]
  },
  {
   "cell_type": "code",
   "execution_count": 13,
   "metadata": {},
   "outputs": [
    {
     "data": {
      "text/plain": [
       "'Welcome to the adavnce python course'"
      ]
     },
     "execution_count": 13,
     "metadata": {},
     "output_type": "execute_result"
    }
   ],
   "source": [
    "def welcome():\n",
    "    return \"Welcome to the adavnce python course\"\n",
    "\n",
    "welcome()"
   ]
  },
  {
   "cell_type": "code",
   "execution_count": 14,
   "metadata": {},
   "outputs": [
    {
     "name": "stdout",
     "output_type": "stream",
     "text": [
      "Welcome to the adavnce python course\n",
      "Welcome to the adavnce python course\n",
      "Welcome to the adavnce python course\n"
     ]
    }
   ],
   "source": [
    "wel = welcome\n",
    "print(wel())\n",
    "del welcome\n",
    "print(wel())\n",
    "print(wel())\n"
   ]
  },
  {
   "cell_type": "markdown",
   "metadata": {},
   "source": [
    "## Closures in Python\n",
    "#### A closure is a function defined inside another function, which can access variables from the enclosing function's scope. This is similar to concepts in other languages like C# and Java."
   ]
  },
  {
   "cell_type": "code",
   "execution_count": 1,
   "metadata": {},
   "outputs": [
    {
     "name": "stdout",
     "output_type": "stream",
     "text": [
      "Welcome to the Advanced Python course\n",
      "Please learn this concepts properly\n",
      "Welcome\n"
     ]
    }
   ],
   "source": [
    "def main_welcome():\n",
    "    message = \"Welcome\"\n",
    "    def sub_welcome():\n",
    "        print(\"Welcome to the Advanced Python course\")\n",
    "        print(\"Please learn this concepts properly\")\n",
    "        print(message)\n",
    "    return sub_welcome\n",
    "\n",
    "closure_func = main_welcome()\n",
    "closure_func()"
   ]
  },
  {
   "cell_type": "code",
   "execution_count": 2,
   "metadata": {},
   "outputs": [
    {
     "name": "stdout",
     "output_type": "stream",
     "text": [
      "Welcome to the Advanced Python course\n",
      "Please learn this concepts properly\n",
      "Welcome everyone to this tutorial.\n"
     ]
    }
   ],
   "source": [
    "def main_welcome(func):\n",
    "    def sub_welcome():\n",
    "        print(\"Welcome to the Advanced Python course\")\n",
    "        print(\"Please learn this concepts properly\")\n",
    "        func(\"Welcome everyone to this tutorial.\")\n",
    "    return sub_welcome\n",
    "\n",
    "closure_func = main_welcome(print)\n",
    "closure_func()"
   ]
  },
  {
   "cell_type": "code",
   "execution_count": 6,
   "metadata": {},
   "outputs": [
    {
     "name": "stdout",
     "output_type": "stream",
     "text": [
      "Hi Welcome\n",
      "5\n",
      "Oh great to know\n"
     ]
    }
   ],
   "source": [
    "def mainFunction(func,list):\n",
    "    def subFunction():\n",
    "        print(\"Hi Welcome\")\n",
    "        print(func(list))\n",
    "        print(\"Oh great to know\")\n",
    "    return subFunction\n",
    "\n",
    "result = mainFunction(len,[1,2,3,4,5])\n",
    "result()"
   ]
  },
  {
   "cell_type": "markdown",
   "metadata": {},
   "source": [
    "## Introduction to Decorators\n",
    "#### Decorators are a powerful and flexible feature in Python that allow you to modify the behavior of a function or class method. They are commonly used to add functionality to functions or methods without modifying the actual code."
   ]
  },
  {
   "cell_type": "code",
   "execution_count": 20,
   "metadata": {},
   "outputs": [],
   "source": [
    "def fun(func):\n",
    "    def ano():\n",
    "        print(\"Hi\")\n",
    "        func()\n",
    "        print(\"Ali\")\n",
    "    return ano()\n"
   ]
  },
  {
   "cell_type": "code",
   "execution_count": 21,
   "metadata": {},
   "outputs": [
    {
     "name": "stdout",
     "output_type": "stream",
     "text": [
      "Welcome\n"
     ]
    }
   ],
   "source": [
    "def another():\n",
    "    print(\"Welcome\")\n",
    "\n",
    "another()"
   ]
  },
  {
   "cell_type": "code",
   "execution_count": 22,
   "metadata": {},
   "outputs": [
    {
     "name": "stdout",
     "output_type": "stream",
     "text": [
      "Hi\n",
      "Welcome\n",
      "Ali\n"
     ]
    }
   ],
   "source": [
    "fun(another)"
   ]
  },
  {
   "cell_type": "code",
   "execution_count": null,
   "metadata": {},
   "outputs": [
    {
     "name": "stdout",
     "output_type": "stream",
     "text": [
      "Hi\n",
      "Welcome\n",
      "Ali\n"
     ]
    }
   ],
   "source": [
    "## Now let's see the magic of decorator\n",
    "@fun\n",
    "def another():\n",
    "    print(\"Welcome\")"
   ]
  },
  {
   "cell_type": "code",
   "execution_count": 27,
   "metadata": {},
   "outputs": [],
   "source": [
    "def repeat(n):\n",
    "    def decorator(func):\n",
    "        def wrapper(*args, **kwargs):\n",
    "            for _ in range(n):\n",
    "                func(*args, **kwargs)\n",
    "        return wrapper\n",
    "    return decorator"
   ]
  },
  {
   "cell_type": "code",
   "execution_count": 28,
   "metadata": {},
   "outputs": [],
   "source": [
    "@repeat(3)\n",
    "def say_hello():\n",
    "    print(\"Hello\")"
   ]
  },
  {
   "cell_type": "code",
   "execution_count": 29,
   "metadata": {},
   "outputs": [
    {
     "name": "stdout",
     "output_type": "stream",
     "text": [
      "Hello\n",
      "Hello\n",
      "Hello\n"
     ]
    }
   ],
   "source": [
    "say_hello()"
   ]
  }
 ],
 "metadata": {
  "kernelspec": {
   "display_name": "Python 3",
   "language": "python",
   "name": "python3"
  },
  "language_info": {
   "codemirror_mode": {
    "name": "ipython",
    "version": 3
   },
   "file_extension": ".py",
   "mimetype": "text/x-python",
   "name": "python",
   "nbconvert_exporter": "python",
   "pygments_lexer": "ipython3",
   "version": "3.12.0"
  }
 },
 "nbformat": 4,
 "nbformat_minor": 2
}
